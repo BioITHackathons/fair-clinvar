{
 "cells": [
  {
   "cell_type": "markdown",
   "metadata": {},
   "source": [
    "# Bio-IT Hackathon: FAIR ClinVar"
   ]
  },
  {
   "cell_type": "markdown",
   "metadata": {},
   "source": [
    "The ClinVar database (https://www.ncbi.nlm.nih.gov/clinvar/) is a public repository of submissions from researchers on the genetic variants known in the human genome, and their assocciated diseases. The whole database can be downloaded as one gzip file in several formats, including vcf and xml. While deeply informative, this database is currently best used only on the NCBI website, and the relationships between meta-data are unclear. The database is also continually updated, (some portions daily), and the new database files are updated monthly. Therefore, we also wanted clear documentation on what we did and why. This way the method could be repeated with the new version of the database, and strengthen the arguement for changing how the database is generate/released.\n",
    "\n",
    "## Goals:\n",
    "- Assess the FAIR qualities of the NCBI ClinVAR database according to the 15 FAIR principles\n",
    "- Wrangle the database, and process using the FAIRifier (https://bioit.fair-dtls.surf-hosted.nl/fairifier/)\n",
    "- Correct deficenies in the FAIRness of the database\n",
    "- Create a relational scheme for the subjects (variables) in the file"
   ]
  },
  {
   "cell_type": "markdown",
   "metadata": {},
   "source": [
    "## Pre-processing\n",
    "We found that the main vcf file contains both the whole database (over 200,000 entries and 58 columns)\n",
    "Since the metadata is incorporated into the file, we needed to trim the file to a proof of concept csv for FAIRizing,\n",
    "while including the meta-data names as header names in the csv file.\n",
    "\n",
    "### Our initial FAIR assessment:\n",
    "1. No Globally unique identifiers\n",
    "2. Metadata and data in same file, but this is a feature of the data\n",
    "3. No metadata access when data is no longer available\n",
    "4. Metadata doesn't use a broadly accessible language (assuming RDF was what was required)\n",
    "5. Metadata using FAIR vocabularies - I don't think so.\n",
    "6. Metadata doesn't have a complete versioning history but has some form of detailed provenance.\n",
    "7. We question the, \"metadata is richly described with a plurality of accurate and relevant attributes.\"\n",
    "\n",
    "### CSV proof-of-concept file made using python"
   ]
  },
  {
   "cell_type": "code",
   "execution_count": 10,
   "metadata": {
    "collapsed": false
   },
   "outputs": [],
   "source": [
    "import json\n",
    "import re\n",
    "import os\n",
    "import urllib.request as request\n",
    "import gzip\n",
    "import argparse\n",
    "import shutil\n",
    "from collections import OrderedDict\n",
    "import os\n",
    "import re\n",
    "\n",
    "filePath = 'clinvar.vcf';\n",
    "outputfile = open('clinvar.csv','w');\n",
    "\n",
    "################################################\n",
    "#\t\t\t     Helper Methods                #\n",
    "################################################\n",
    "def extractInfoString( info ):\n",
    "\tresult = []\n",
    "\n",
    "\tclinallele_index = \" \".join( clinallele_re.search( info ).group(1).split(\",\") )\n",
    "\tdiseases = \" \".join( disease_re.search(info).group(1).split(\",\") )\n",
    "\tclinsigs = \" \".join( clinsig_re.search(info).group(1).split(',') )\n",
    "\tclinrevstats = \" \".join( clinrevstat_re.search(info).group(1).split(\",\") )\n",
    "\tclinaccs = \" \".join( clinacc_re.search(info).group(1).split(\",\") )\n",
    "\tgene_group = gene_re.search(info)\n",
    "\n",
    "\tif gene_group :\n",
    "\t\tgene = \"\".join( gene_group.group(1) )\n",
    "\telse:\n",
    "\t\tgene = \"\"\n",
    "\n",
    "\tresult.append( clinallele_index.replace('\\n','') )\n",
    "\tresult.append( diseases.replace('\\n','') )\n",
    "\tresult.append( clinsigs.replace('\\n','') )\n",
    "\tresult.append( clinrevstats.replace('\\n','') )\n",
    "\tresult.append( clinaccs.replace('\\n','') )\n",
    "\tresult.append( gene );\n",
    "\n",
    "\treturn result\n",
    "\n",
    "def listToCSVRow( dataList ):\n",
    "\n",
    "\trow = \"\"\n",
    "\tfor item in dataList:\n",
    "\t\titem = item.replace(',','')\n",
    "\t\trow += ',' + item\n",
    "\n",
    "\treturn row[1:]\n",
    "\n",
    "\n",
    "\n",
    "################################################\n",
    "#\t\t\tFields in Info We Need             #\n",
    "################################################\n",
    "clinallele_re = re.compile(\"CLNALLE=(-?\\d+)\")\n",
    "disease_re = re.compile(\"CLNDBN=([^;]*)\")\n",
    "clinsig_re = re.compile(\"CLNSIG=([^;]*)\")\n",
    "clinrevstat_re = re.compile(\"CLNREVSTAT=([^;]*)\")\n",
    "clinacc_re = re.compile(\"CLNACC=([^;]*)\")\n",
    "gene_re = re.compile(\"GENEINFO=(\\w+)\")\n",
    "\n",
    "\n",
    "fixed_tittle = \"CHROM,POS,ID,REF,ALT,QUAL,FILTER\"\n",
    "info_tittle = \"CLNALLE,CLNDBN,CLNSIG,CLNREVSTAT,CLNACC,GENEINFO\"\n",
    "\n",
    "full_tittle = fixed_tittle + ',' + info_tittle;\n",
    "\n",
    "outputfile.write(full_tittle + os.linesep)\n",
    "\n",
    "\n",
    "################################################\n",
    "#\t\t\t       Start Parsing               #\n",
    "################################################\n",
    "with open( filePath ) as f:\n",
    "\tfor line in f:\n",
    "\t\tif line.startswith(\"#\",0, 2):\n",
    "\t\t\tcontinue;\n",
    "\t\tfieldList = line.split('\\t')\n",
    "\t\tfixedList = fieldList[0:7];\n",
    "\t\tinfoString = fieldList[7];\n",
    "\t\tinfoList = extractInfoString( infoString )\n",
    "\t\trow = listToCSVRow( fixedList + infoList )\n",
    "\t\toutputfile.write( row + os.linesep)\n",
    "\n",
    "\n",
    "\n",
    "\n",
    "\n",
    "\n",
    "\n"
   ]
  },
  {
   "cell_type": "markdown",
   "metadata": {},
   "source": [
    "### FAIRification\n",
    "We submited the csv file to the fairifier\n",
    "**What did we do?**\n",
    "\n",
    "The CLNACC field, which is RCV#, was used to make a new column for the persistent ID like https://www.ncbi.nlm.nih.gov/clinvar/RCV000148988/\n"
   ]
  },
  {
   "cell_type": "markdown",
   "metadata": {
    "collapsed": true
   },
   "source": [
    "### Relational scheme\n",
    "### 30,000 ft view\n",
    "## Using common terms\n",
    "![title](RDFmap_v1.png)\n",
    "## Using the metadata labels\n",
    "![title](RDFmap_v2.png)"
   ]
  },
  {
   "cell_type": "markdown",
   "metadata": {},
   "source": [
    "## Create RDF file"
   ]
  },
  {
   "cell_type": "code",
   "execution_count": 8,
   "metadata": {
    "collapsed": false,
    "scrolled": true
   },
   "outputs": [
    {
     "name": "stdout",
     "output_type": "stream",
     "text": [
      "<subject1> <predicate1> <subject2> .\n",
      "<subject2> <predicate2> <object2> .\n",
      "\n",
      "\n"
     ]
    }
   ],
   "source": [
    "from StringIO import StringIO\n",
    "from rdflib import Graph, URIRef\n",
    "contents = '''\\\n",
    "subject1\\tpredicate1\\tsubject2\n",
    "subject2\\tpredicate2\\tobject2'''  \n",
    "tabfile = StringIO(contents)\n",
    "graph = rdflib.Graph()\n",
    "\n",
    "for line in tabfile:\n",
    "    triple = line.split()                # triple is now a list of 3 strings\n",
    "    triple = (URIRef(t) for t in triple) # we have to wrap them in URIRef\n",
    "    graph.add(triple)                    # and add to the graph\n",
    "print graph.serialize(format='nt')"
   ]
  },
  {
   "cell_type": "code",
   "execution_count": null,
   "metadata": {
    "collapsed": false
   },
   "outputs": [],
   "source": []
  },
  {
   "cell_type": "markdown",
   "metadata": {
    "collapsed": true
   },
   "source": [
    "# Future directions\n",
    "* Create RDF file with complete meta-data associations (~58) **include stakeholder engagment**\n",
    "* Improve machine interoperability\n",
    "* Test ML classifiers based on the relations"
   ]
  }
 ],
 "metadata": {
  "anaconda-cloud": {},
  "kernelspec": {
   "display_name": "Python 2",
   "language": "python",
   "name": "python2"
  },
  "language_info": {
   "codemirror_mode": {
    "name": "ipython",
    "version": 2
   },
   "file_extension": ".py",
   "mimetype": "text/x-python",
   "name": "python",
   "nbconvert_exporter": "python",
   "pygments_lexer": "ipython2",
   "version": "2.7.13"
  }
 },
 "nbformat": 4,
 "nbformat_minor": 2
}
